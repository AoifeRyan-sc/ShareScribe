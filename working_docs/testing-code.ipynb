{
 "cells": [
  {
   "cell_type": "markdown",
   "metadata": {},
   "source": [
    "## Top Level Understanding"
   ]
  },
  {
   "cell_type": "code",
   "execution_count": 1,
   "metadata": {},
   "outputs": [],
   "source": [
    "import os\n",
    "import openai"
   ]
  },
  {
   "cell_type": "code",
   "execution_count": 2,
   "metadata": {},
   "outputs": [],
   "source": [
    "from dotenv import load_dotenv\n",
    "\n",
    "load_dotenv()\n",
    "api_key = os.getenv(\"OPENAI_API_KEY\")\n",
    "# api_key = os.environ.get(\"OPENAI_API_KEY\")\n",
    "\n",
    "client = openai.OpenAI(api_key = api_key)"
   ]
  },
  {
   "cell_type": "code",
   "execution_count": 3,
   "metadata": {},
   "outputs": [],
   "source": [
    "from openai import OpenAI\n",
    "\n",
    "client = OpenAI()\n",
    "# path = os.path.expanduser(\"~/Downloads/Amazon_V3_treated.wav\")\n",
    "path = os.path.expanduser(\"~/Downloads/The Slightly Curious Studio 3 1-25m_x2.m4a\")\n",
    "audio_file = open(path, \"rb\")\n",
    "\n",
    "transcription = client.audio.transcriptions.create(\n",
    "    # model=\"gpt-4o-mini-transcribe\", \n",
    "    model = \"whisper-1\",\n",
    "    file=audio_file, \n",
    "    # response_format=\"json\",\n",
    "    response_format = \"srt\"\n",
    "    # stream = True\n",
    ")\n",
    "\n",
    "# compiled_stream = \"\"\n",
    "# for event in transcription:\n",
    "#     if event.type == 'transcript.text.delta':\n",
    "#         compiled_stream += event.delta\n",
    "#         print(compiled_stream)\n",
    "\n",
    "\n",
    "# client.audio.transcriptions.create(\n",
    "#     model=\"gpt-4o-mini-transcribe\", \n",
    "#     file=audio_file, \n",
    "#     # response_format=\"text\",\n",
    "#     stream = True\n",
    "# )"
   ]
  },
  {
   "cell_type": "code",
   "execution_count": 11,
   "metadata": {},
   "outputs": [],
   "source": [
    "from docx import Document\n",
    "from docx.shared import Pt, RGBColor\n",
    "from docx.enum.text import WD_ALIGN_PARAGRAPH\n",
    "import re\n",
    "import io\n",
    "\n",
    "def srt_to_docx(srt_string):\n",
    "\n",
    "    doc = Document()\n",
    "\n",
    "    style = doc.styles['Normal']\n",
    "    style.font.name = 'Arial'\n",
    "    style.font.size = Pt(11)\n",
    "\n",
    "    entries = re.split(r'\\n\\n', srt_string.strip())\n",
    "\n",
    "    for entry in entries:\n",
    "        lines = entry.split('\\n')\n",
    "        # if len(lines) >= 3:  # Ensure we have at least timestamp and text?\n",
    "        timestamp = lines[1]\n",
    "        text = ' '.join(lines[2:])\n",
    "\n",
    "        p = doc.add_paragraph()\n",
    "\n",
    "        timestamp_run = p.add_run(timestamp + \" \")\n",
    "        timestamp_run.font.color.rgb = RGBColor(192, 192, 192)  # Light grey\n",
    "\n",
    "        # wrapped_text = textwrap.wrap(text, width=60)  # Adjust width as needed\n",
    "        p.add_run(lines[2])\n",
    "    \n",
    "    byte_stream = io.BytesIO()\n",
    "    doc.save(byte_stream)\n",
    "    byte_stream.seek(0)  \n",
    "\n",
    "        # for line in wrapped_text[1:]:\n",
    "            # p.add_run('\\n' + ' ' * 8 + line)\n",
    "\n",
    "        # p.paragraph_format.space_after = Pt(6)  # Space after paragraph\n",
    "\n",
    "    return byte_stream\n"
   ]
  },
  {
   "cell_type": "code",
   "execution_count": 12,
   "metadata": {},
   "outputs": [
    {
     "data": {
      "text/plain": [
       "<_io.BytesIO at 0x11c8f1e40>"
      ]
     },
     "execution_count": 12,
     "metadata": {},
     "output_type": "execute_result"
    }
   ],
   "source": [
    "transcription_doc = srt_to_docx(transcription)\n",
    "\n",
    "transcription_doc"
   ]
  },
  {
   "cell_type": "code",
   "execution_count": 13,
   "metadata": {},
   "outputs": [],
   "source": [
    "with open(os.path.expanduser(\"~/Downloads/document.docx\"), 'wb') as f:\n",
    "    f.write(transcription_doc.getvalue())"
   ]
  },
  {
   "cell_type": "markdown",
   "metadata": {},
   "source": [
    "While this is all a nice idea, timestamps are more important and so maybe there is no place for this in the app? Or should I implement streaming where the user does not request timestamps?"
   ]
  },
  {
   "cell_type": "code",
   "execution_count": 50,
   "metadata": {},
   "outputs": [
    {
     "name": "stdout",
     "output_type": "stream",
     "text": [
      "Once upon a sunny afternoon in the small town of Willowbrook, a curious little dog named Benny unearthed a peculiar object in his owner's backyard. Benny was a scruffy terrier with a heart full of adventure and a nose for trouble. As he scratched at the ground, he found an old, dusty lamp, half-buried beneath the roots of a gnarled oak tree.\n",
      "\n",
      "With a wag of his tail, Benny pawed at the lamp until it rolled over, revealing a shiny side. Intrigued, he nudged it with his nose, and to his surprise, a soft, swirling mist poured out. It twisted and turned until it formed into a small, fluffy cloud. The cloud gently floated down and materialized into a tiny, talking genie, complete with a feathery blue hat and a long white beard.\n",
      "\n",
      "“Greetings, noble pup!” the genie exclaimed, his voice melodious and booming. “I am Azar, the Genie of the Whimsical Wish! You have freed me from my slumber. In gratitude, I shall grant you one wish!”\n",
      "\n",
      "Benny, absolutely baffled, tilted his head to the side. After a moment, his wide brown eyes lit up. “I wish I could talk!” \n",
      "\n",
      "The genie chuckled, waving his tiny hands. “As you wish!” \n",
      "\n",
      "In an instant, Benny felt a tingling sensation spread through his little body. The next moment, he barked, and instead of his usual yips and yaps, a clear, cheerful voice emerged. “I can talk! I can really talk!”\n",
      "\n",
      "With newfound excitement, Benny rushed into the house to find his owner, Lucy, a kind-hearted girl of ten. She was sprawled on the living room floor, coloring in her sketchbook. Benny bounded over, his tail wagging furiously. “Lucy! Lucy! Guess what? I can talk now!”\n",
      "\n",
      "Lucy looked up, astonished. “Benny? Is that you?”\n",
      "\n",
      "“Yes! It’s me!” he replied, his voice high-pitched but filled with joy. “You have no idea how exciting this is!”\n",
      "\n",
      "Lucy’s eyes widened with disbelief and delight. “This is amazing! But how?”\n",
      "\n",
      "“A genie!” Benny exclaimed, his tongue lolling out in glee. “I rubbed a lamp, and now I can speak! We can have so many fun adventures together!”\n",
      "\n",
      "From that day on, Benny and Lucy became inseparable companions, the best of friends as they explored the world around them. They ventured to the park, where Benny barked at passing squirrels, discussing their clever antics with Lucy. They played games of fetch, with Benny not only retrieving balls but giving tips on how to throw them just right.\n",
      "\n",
      "Benny also helped Lucy with her homework. When she was struggling with a math problem, he would sit by her side, offering encouragement. “Just think of it as a game, Lucy! Numbers are like fetch sticks—easy to catch once you get the hang of it!”\n",
      "\n",
      "The little dog’s newfound voice brought them closer than ever. Benny shared stories of other dogs he met, the mischief of cats, and the wonders of the world from a dog’s perspective. They laughed, they learned, and they loved every moment together.\n",
      "\n",
      "However, Benny soon realized that being able to talk didn’t come without its challenges. One day at the park, he overheard a group of kids teasing a shy dog. Benny’s heart sank. “That’s not right!” he told Lucy. “Let’s do something!”\n",
      "\n",
      "Together, they approached the group. “Hey, everyone!” Benny barked, shaking with both courage and excitement. “Do you know that every dog has a story? That dog might be shy, but he’s special!”\n",
      "\n",
      "Surprised gasps echoed among the children as they turned their attention to Benny. His heart raced, but he continued, “Just like we want friends, he does too. Let’s give him a chance!”\n",
      "\n",
      "Slowly, the kids began to approach the shy dog, and under Benny’s watchful gaze, they started to play, smiling and laughing. Benny felt a warm glow of happiness, realizing he had the power to make a difference, to foster kindness.\n",
      "\n",
      "As twilight settled over Willowbrook, Benny curled up next to Lucy in front of the fireplace. “Today was incredible,” he said, his eyes sparkling. “We did something good!”\n",
      "\n",
      "Lucy smiled, scratching him behind the ears. “I’m so proud of you, Benny. You’re not just my dog; you’re my hero.” \n",
      "\n",
      "With a contented sigh, Benny nestled closer. In that moment, he knew that his gift of speech was more than just a means to have fun; it was also a way to share love, kindness, and, most importantly, friendship.\n",
      "\n",
      "And in a world where the little things often go unheard, a talking dog showed that every voice matters, and together, they could change the world—one wag at a time.\n"
     ]
    }
   ],
   "source": [
    "import openai\n",
    "from openai import OpenAI\n",
    "\n",
    "client = OpenAI()\n",
    "\n",
    "def stream_and_get_full_response(messages):\n",
    "    response = client.chat.completions.create(\n",
    "        model=\"gpt-4o-mini\",\n",
    "        messages=messages,\n",
    "        stream=True\n",
    "    )\n",
    "    full_response_text = \"\"\n",
    "    for chunk in response:\n",
    "        if chunk.choices:\n",
    "            delta = chunk.choices[0].delta\n",
    "            if delta.content:\n",
    "                full_response_text += delta.content\n",
    "            if chunk.choices[0].finish_reason == \"stop\":\n",
    "                # End of stream.  full_response_text now contains the full response.\n",
    "                break\n",
    "    return full_response_text\n",
    "\n",
    "messages = [{\"role\": \"user\", \"content\": \"Write a short story about a talking dog.\"}]\n",
    "full_story = stream_and_get_full_response(messages)\n",
    "print(full_story)"
   ]
  },
  {
   "cell_type": "markdown",
   "metadata": {},
   "source": [
    "This doesn't seem to stream anything?"
   ]
  },
  {
   "cell_type": "code",
   "execution_count": 11,
   "metadata": {},
   "outputs": [
    {
     "data": {
      "text/plain": [
       "23.341688883333333"
      ]
     },
     "execution_count": 11,
     "metadata": {},
     "output_type": "execute_result"
    }
   ],
   "source": [
    "1400.501333/60"
   ]
  },
  {
   "cell_type": "markdown",
   "metadata": {},
   "source": [
    "## Getting Langcodes"
   ]
  },
  {
   "cell_type": "code",
   "execution_count": 51,
   "metadata": {},
   "outputs": [
    {
     "data": {
      "text/plain": [
       "[{'label': 'Aruba', 'value': 'AW'},\n",
       " {'label': 'Afghanistan', 'value': 'AF'},\n",
       " {'label': 'Angola', 'value': 'AO'},\n",
       " {'label': 'Anguilla', 'value': 'AI'},\n",
       " {'label': 'Åland Islands', 'value': 'AX'},\n",
       " {'label': 'Albania', 'value': 'AL'},\n",
       " {'label': 'Andorra', 'value': 'AD'},\n",
       " {'label': 'United Arab Emirates', 'value': 'AE'},\n",
       " {'label': 'Argentina', 'value': 'AR'},\n",
       " {'label': 'Armenia', 'value': 'AM'},\n",
       " {'label': 'American Samoa', 'value': 'AS'},\n",
       " {'label': 'Antarctica', 'value': 'AQ'},\n",
       " {'label': 'French Southern Territories', 'value': 'TF'},\n",
       " {'label': 'Antigua and Barbuda', 'value': 'AG'},\n",
       " {'label': 'Australia', 'value': 'AU'},\n",
       " {'label': 'Austria', 'value': 'AT'},\n",
       " {'label': 'Azerbaijan', 'value': 'AZ'},\n",
       " {'label': 'Burundi', 'value': 'BI'},\n",
       " {'label': 'Belgium', 'value': 'BE'},\n",
       " {'label': 'Benin', 'value': 'BJ'},\n",
       " {'label': 'Bonaire, Sint Eustatius and Saba', 'value': 'BQ'},\n",
       " {'label': 'Burkina Faso', 'value': 'BF'},\n",
       " {'label': 'Bangladesh', 'value': 'BD'},\n",
       " {'label': 'Bulgaria', 'value': 'BG'},\n",
       " {'label': 'Bahrain', 'value': 'BH'},\n",
       " {'label': 'Bahamas', 'value': 'BS'},\n",
       " {'label': 'Bosnia and Herzegovina', 'value': 'BA'},\n",
       " {'label': 'Saint Barthélemy', 'value': 'BL'},\n",
       " {'label': 'Belarus', 'value': 'BY'},\n",
       " {'label': 'Belize', 'value': 'BZ'},\n",
       " {'label': 'Bermuda', 'value': 'BM'},\n",
       " {'label': 'Bolivia, Plurinational State of', 'value': 'BO'},\n",
       " {'label': 'Brazil', 'value': 'BR'},\n",
       " {'label': 'Barbados', 'value': 'BB'},\n",
       " {'label': 'Brunei Darussalam', 'value': 'BN'},\n",
       " {'label': 'Bhutan', 'value': 'BT'},\n",
       " {'label': 'Bouvet Island', 'value': 'BV'},\n",
       " {'label': 'Botswana', 'value': 'BW'},\n",
       " {'label': 'Central African Republic', 'value': 'CF'},\n",
       " {'label': 'Canada', 'value': 'CA'},\n",
       " {'label': 'Cocos (Keeling) Islands', 'value': 'CC'},\n",
       " {'label': 'Switzerland', 'value': 'CH'},\n",
       " {'label': 'Chile', 'value': 'CL'},\n",
       " {'label': 'China', 'value': 'CN'},\n",
       " {'label': \"Côte d'Ivoire\", 'value': 'CI'},\n",
       " {'label': 'Cameroon', 'value': 'CM'},\n",
       " {'label': 'Congo, The Democratic Republic of the', 'value': 'CD'},\n",
       " {'label': 'Congo', 'value': 'CG'},\n",
       " {'label': 'Cook Islands', 'value': 'CK'},\n",
       " {'label': 'Colombia', 'value': 'CO'},\n",
       " {'label': 'Comoros', 'value': 'KM'},\n",
       " {'label': 'Cabo Verde', 'value': 'CV'},\n",
       " {'label': 'Costa Rica', 'value': 'CR'},\n",
       " {'label': 'Cuba', 'value': 'CU'},\n",
       " {'label': 'Curaçao', 'value': 'CW'},\n",
       " {'label': 'Christmas Island', 'value': 'CX'},\n",
       " {'label': 'Cayman Islands', 'value': 'KY'},\n",
       " {'label': 'Cyprus', 'value': 'CY'},\n",
       " {'label': 'Czechia', 'value': 'CZ'},\n",
       " {'label': 'Germany', 'value': 'DE'},\n",
       " {'label': 'Djibouti', 'value': 'DJ'},\n",
       " {'label': 'Dominica', 'value': 'DM'},\n",
       " {'label': 'Denmark', 'value': 'DK'},\n",
       " {'label': 'Dominican Republic', 'value': 'DO'},\n",
       " {'label': 'Algeria', 'value': 'DZ'},\n",
       " {'label': 'Ecuador', 'value': 'EC'},\n",
       " {'label': 'Egypt', 'value': 'EG'},\n",
       " {'label': 'Eritrea', 'value': 'ER'},\n",
       " {'label': 'Western Sahara', 'value': 'EH'},\n",
       " {'label': 'Spain', 'value': 'ES'},\n",
       " {'label': 'Estonia', 'value': 'EE'},\n",
       " {'label': 'Ethiopia', 'value': 'ET'},\n",
       " {'label': 'Finland', 'value': 'FI'},\n",
       " {'label': 'Fiji', 'value': 'FJ'},\n",
       " {'label': 'Falkland Islands (Malvinas)', 'value': 'FK'},\n",
       " {'label': 'France', 'value': 'FR'},\n",
       " {'label': 'Faroe Islands', 'value': 'FO'},\n",
       " {'label': 'Micronesia, Federated States of', 'value': 'FM'},\n",
       " {'label': 'Gabon', 'value': 'GA'},\n",
       " {'label': 'United Kingdom', 'value': 'GB'},\n",
       " {'label': 'Georgia', 'value': 'GE'},\n",
       " {'label': 'Guernsey', 'value': 'GG'},\n",
       " {'label': 'Ghana', 'value': 'GH'},\n",
       " {'label': 'Gibraltar', 'value': 'GI'},\n",
       " {'label': 'Guinea', 'value': 'GN'},\n",
       " {'label': 'Guadeloupe', 'value': 'GP'},\n",
       " {'label': 'Gambia', 'value': 'GM'},\n",
       " {'label': 'Guinea-Bissau', 'value': 'GW'},\n",
       " {'label': 'Equatorial Guinea', 'value': 'GQ'},\n",
       " {'label': 'Greece', 'value': 'GR'},\n",
       " {'label': 'Grenada', 'value': 'GD'},\n",
       " {'label': 'Greenland', 'value': 'GL'},\n",
       " {'label': 'Guatemala', 'value': 'GT'},\n",
       " {'label': 'French Guiana', 'value': 'GF'},\n",
       " {'label': 'Guam', 'value': 'GU'},\n",
       " {'label': 'Guyana', 'value': 'GY'},\n",
       " {'label': 'Hong Kong', 'value': 'HK'},\n",
       " {'label': 'Heard Island and McDonald Islands', 'value': 'HM'},\n",
       " {'label': 'Honduras', 'value': 'HN'},\n",
       " {'label': 'Croatia', 'value': 'HR'},\n",
       " {'label': 'Haiti', 'value': 'HT'},\n",
       " {'label': 'Hungary', 'value': 'HU'},\n",
       " {'label': 'Indonesia', 'value': 'ID'},\n",
       " {'label': 'Isle of Man', 'value': 'IM'},\n",
       " {'label': 'India', 'value': 'IN'},\n",
       " {'label': 'British Indian Ocean Territory', 'value': 'IO'},\n",
       " {'label': 'Ireland', 'value': 'IE'},\n",
       " {'label': 'Iran, Islamic Republic of', 'value': 'IR'},\n",
       " {'label': 'Iraq', 'value': 'IQ'},\n",
       " {'label': 'Iceland', 'value': 'IS'},\n",
       " {'label': 'Israel', 'value': 'IL'},\n",
       " {'label': 'Italy', 'value': 'IT'},\n",
       " {'label': 'Jamaica', 'value': 'JM'},\n",
       " {'label': 'Jersey', 'value': 'JE'},\n",
       " {'label': 'Jordan', 'value': 'JO'},\n",
       " {'label': 'Japan', 'value': 'JP'},\n",
       " {'label': 'Kazakhstan', 'value': 'KZ'},\n",
       " {'label': 'Kenya', 'value': 'KE'},\n",
       " {'label': 'Kyrgyzstan', 'value': 'KG'},\n",
       " {'label': 'Cambodia', 'value': 'KH'},\n",
       " {'label': 'Kiribati', 'value': 'KI'},\n",
       " {'label': 'Saint Kitts and Nevis', 'value': 'KN'},\n",
       " {'label': 'Korea, Republic of', 'value': 'KR'},\n",
       " {'label': 'Kuwait', 'value': 'KW'},\n",
       " {'label': \"Lao People's Democratic Republic\", 'value': 'LA'},\n",
       " {'label': 'Lebanon', 'value': 'LB'},\n",
       " {'label': 'Liberia', 'value': 'LR'},\n",
       " {'label': 'Libya', 'value': 'LY'},\n",
       " {'label': 'Saint Lucia', 'value': 'LC'},\n",
       " {'label': 'Liechtenstein', 'value': 'LI'},\n",
       " {'label': 'Sri Lanka', 'value': 'LK'},\n",
       " {'label': 'Lesotho', 'value': 'LS'},\n",
       " {'label': 'Lithuania', 'value': 'LT'},\n",
       " {'label': 'Luxembourg', 'value': 'LU'},\n",
       " {'label': 'Latvia', 'value': 'LV'},\n",
       " {'label': 'Macao', 'value': 'MO'},\n",
       " {'label': 'Saint Martin (French part)', 'value': 'MF'},\n",
       " {'label': 'Morocco', 'value': 'MA'},\n",
       " {'label': 'Monaco', 'value': 'MC'},\n",
       " {'label': 'Moldova, Republic of', 'value': 'MD'},\n",
       " {'label': 'Madagascar', 'value': 'MG'},\n",
       " {'label': 'Maldives', 'value': 'MV'},\n",
       " {'label': 'Mexico', 'value': 'MX'},\n",
       " {'label': 'Marshall Islands', 'value': 'MH'},\n",
       " {'label': 'North Macedonia', 'value': 'MK'},\n",
       " {'label': 'Mali', 'value': 'ML'},\n",
       " {'label': 'Malta', 'value': 'MT'},\n",
       " {'label': 'Myanmar', 'value': 'MM'},\n",
       " {'label': 'Montenegro', 'value': 'ME'},\n",
       " {'label': 'Mongolia', 'value': 'MN'},\n",
       " {'label': 'Northern Mariana Islands', 'value': 'MP'},\n",
       " {'label': 'Mozambique', 'value': 'MZ'},\n",
       " {'label': 'Mauritania', 'value': 'MR'},\n",
       " {'label': 'Montserrat', 'value': 'MS'},\n",
       " {'label': 'Martinique', 'value': 'MQ'},\n",
       " {'label': 'Mauritius', 'value': 'MU'},\n",
       " {'label': 'Malawi', 'value': 'MW'},\n",
       " {'label': 'Malaysia', 'value': 'MY'},\n",
       " {'label': 'Mayotte', 'value': 'YT'},\n",
       " {'label': 'Namibia', 'value': 'NA'},\n",
       " {'label': 'New Caledonia', 'value': 'NC'},\n",
       " {'label': 'Niger', 'value': 'NE'},\n",
       " {'label': 'Norfolk Island', 'value': 'NF'},\n",
       " {'label': 'Nigeria', 'value': 'NG'},\n",
       " {'label': 'Nicaragua', 'value': 'NI'},\n",
       " {'label': 'Niue', 'value': 'NU'},\n",
       " {'label': 'Netherlands', 'value': 'NL'},\n",
       " {'label': 'Norway', 'value': 'NO'},\n",
       " {'label': 'Nepal', 'value': 'NP'},\n",
       " {'label': 'Nauru', 'value': 'NR'},\n",
       " {'label': 'New Zealand', 'value': 'NZ'},\n",
       " {'label': 'Oman', 'value': 'OM'},\n",
       " {'label': 'Pakistan', 'value': 'PK'},\n",
       " {'label': 'Panama', 'value': 'PA'},\n",
       " {'label': 'Pitcairn', 'value': 'PN'},\n",
       " {'label': 'Peru', 'value': 'PE'},\n",
       " {'label': 'Philippines', 'value': 'PH'},\n",
       " {'label': 'Palau', 'value': 'PW'},\n",
       " {'label': 'Papua New Guinea', 'value': 'PG'},\n",
       " {'label': 'Poland', 'value': 'PL'},\n",
       " {'label': 'Puerto Rico', 'value': 'PR'},\n",
       " {'label': \"Korea, Democratic People's Republic of\", 'value': 'KP'},\n",
       " {'label': 'Portugal', 'value': 'PT'},\n",
       " {'label': 'Paraguay', 'value': 'PY'},\n",
       " {'label': 'Palestine, State of', 'value': 'PS'},\n",
       " {'label': 'French Polynesia', 'value': 'PF'},\n",
       " {'label': 'Qatar', 'value': 'QA'},\n",
       " {'label': 'Réunion', 'value': 'RE'},\n",
       " {'label': 'Romania', 'value': 'RO'},\n",
       " {'label': 'Russian Federation', 'value': 'RU'},\n",
       " {'label': 'Rwanda', 'value': 'RW'},\n",
       " {'label': 'Saudi Arabia', 'value': 'SA'},\n",
       " {'label': 'Sudan', 'value': 'SD'},\n",
       " {'label': 'Senegal', 'value': 'SN'},\n",
       " {'label': 'Singapore', 'value': 'SG'},\n",
       " {'label': 'South Georgia and the South Sandwich Islands', 'value': 'GS'},\n",
       " {'label': 'Saint Helena, Ascension and Tristan da Cunha', 'value': 'SH'},\n",
       " {'label': 'Svalbard and Jan Mayen', 'value': 'SJ'},\n",
       " {'label': 'Solomon Islands', 'value': 'SB'},\n",
       " {'label': 'Sierra Leone', 'value': 'SL'},\n",
       " {'label': 'El Salvador', 'value': 'SV'},\n",
       " {'label': 'San Marino', 'value': 'SM'},\n",
       " {'label': 'Somalia', 'value': 'SO'},\n",
       " {'label': 'Saint Pierre and Miquelon', 'value': 'PM'},\n",
       " {'label': 'Serbia', 'value': 'RS'},\n",
       " {'label': 'South Sudan', 'value': 'SS'},\n",
       " {'label': 'Sao Tome and Principe', 'value': 'ST'},\n",
       " {'label': 'Suriname', 'value': 'SR'},\n",
       " {'label': 'Slovakia', 'value': 'SK'},\n",
       " {'label': 'Slovenia', 'value': 'SI'},\n",
       " {'label': 'Sweden', 'value': 'SE'},\n",
       " {'label': 'Eswatini', 'value': 'SZ'},\n",
       " {'label': 'Sint Maarten (Dutch part)', 'value': 'SX'},\n",
       " {'label': 'Seychelles', 'value': 'SC'},\n",
       " {'label': 'Syrian Arab Republic', 'value': 'SY'},\n",
       " {'label': 'Turks and Caicos Islands', 'value': 'TC'},\n",
       " {'label': 'Chad', 'value': 'TD'},\n",
       " {'label': 'Togo', 'value': 'TG'},\n",
       " {'label': 'Thailand', 'value': 'TH'},\n",
       " {'label': 'Tajikistan', 'value': 'TJ'},\n",
       " {'label': 'Tokelau', 'value': 'TK'},\n",
       " {'label': 'Turkmenistan', 'value': 'TM'},\n",
       " {'label': 'Timor-Leste', 'value': 'TL'},\n",
       " {'label': 'Tonga', 'value': 'TO'},\n",
       " {'label': 'Trinidad and Tobago', 'value': 'TT'},\n",
       " {'label': 'Tunisia', 'value': 'TN'},\n",
       " {'label': 'Türkiye', 'value': 'TR'},\n",
       " {'label': 'Tuvalu', 'value': 'TV'},\n",
       " {'label': 'Taiwan, Province of China', 'value': 'TW'},\n",
       " {'label': 'Tanzania, United Republic of', 'value': 'TZ'},\n",
       " {'label': 'Uganda', 'value': 'UG'},\n",
       " {'label': 'Ukraine', 'value': 'UA'},\n",
       " {'label': 'United States Minor Outlying Islands', 'value': 'UM'},\n",
       " {'label': 'Uruguay', 'value': 'UY'},\n",
       " {'label': 'United States', 'value': 'US'},\n",
       " {'label': 'Uzbekistan', 'value': 'UZ'},\n",
       " {'label': 'Holy See (Vatican City State)', 'value': 'VA'},\n",
       " {'label': 'Saint Vincent and the Grenadines', 'value': 'VC'},\n",
       " {'label': 'Venezuela, Bolivarian Republic of', 'value': 'VE'},\n",
       " {'label': 'Virgin Islands, British', 'value': 'VG'},\n",
       " {'label': 'Virgin Islands, U.S.', 'value': 'VI'},\n",
       " {'label': 'Viet Nam', 'value': 'VN'},\n",
       " {'label': 'Vanuatu', 'value': 'VU'},\n",
       " {'label': 'Wallis and Futuna', 'value': 'WF'},\n",
       " {'label': 'Samoa', 'value': 'WS'},\n",
       " {'label': 'Yemen', 'value': 'YE'},\n",
       " {'label': 'South Africa', 'value': 'ZA'},\n",
       " {'label': 'Zambia', 'value': 'ZM'},\n",
       " {'label': 'Zimbabwe', 'value': 'ZW'}]"
      ]
     },
     "execution_count": 51,
     "metadata": {},
     "output_type": "execute_result"
    }
   ],
   "source": [
    "import pycountry \n",
    "\n",
    "countries = [country.alpha_2 for country in pycountry.countries]\n",
    "# country_dict ={\"Code\" : country.alpha_2, \"Country\" : country.name for country in pycountry.countries}\n",
    "country_dict ={country.alpha_2 : country.name for country in pycountry.countries}\n",
    "country_dict_named = [\n",
    "    {\"label\": name, \"value\": code}\n",
    "    for code, name in country_dict.items()\n",
    "]\n",
    "\n",
    "country_dict_named"
   ]
  },
  {
   "cell_type": "code",
   "execution_count": 52,
   "metadata": {},
   "outputs": [
    {
     "data": {
      "text/plain": [
       "Country(alpha_2='AW', alpha_3='ABW', flag='🇦🇼', name='Aruba', numeric='533')"
      ]
     },
     "execution_count": 52,
     "metadata": {},
     "output_type": "execute_result"
    }
   ],
   "source": [
    "len(pycountry.countries)\n",
    "list(pycountry.countries)[0]"
   ]
  },
  {
   "cell_type": "code",
   "execution_count": 23,
   "metadata": {},
   "outputs": [
    {
     "data": {
      "text/plain": [
       "['ALL_SCRIPTS',\n",
       " 'Any',\n",
       " 'DEFAULT_LANGUAGE',\n",
       " 'DEFAULT_SCRIPTS',\n",
       " 'Dict',\n",
       " 'Iterable',\n",
       " 'LANGUAGE_ALPHA3',\n",
       " 'LANGUAGE_ALPHA3_BIBLIOGRAPHIC',\n",
       " 'LANGUAGE_NAME_IMPORT_MESSAGE',\n",
       " 'LANGUAGE_REPLACEMENTS',\n",
       " 'LIKELY_SUBTAGS',\n",
       " 'Language',\n",
       " 'LanguageData',\n",
       " 'LanguageTagError',\n",
       " 'List',\n",
       " 'Mapping',\n",
       " 'NORMALIZED_MACROLANGUAGES',\n",
       " 'Optional',\n",
       " 'Sequence',\n",
       " 'TERRITORY_REPLACEMENTS',\n",
       " 'Tuple',\n",
       " 'Union',\n",
       " 'VALIDITY',\n",
       " '__builtins__',\n",
       " '__cached__',\n",
       " '__doc__',\n",
       " '__file__',\n",
       " '__loader__',\n",
       " '__name__',\n",
       " '__package__',\n",
       " '__path__',\n",
       " '__spec__',\n",
       " 'best_match',\n",
       " 'closest_match',\n",
       " 'closest_supported_match',\n",
       " 'data_dicts',\n",
       " 'find',\n",
       " 'find_name',\n",
       " 'get',\n",
       " 'itemgetter',\n",
       " 'language_distance',\n",
       " 'normalize_characters',\n",
       " 'parse_tag',\n",
       " 'standardize_tag',\n",
       " 'sys',\n",
       " 'tag_distance',\n",
       " 'tag_is_valid',\n",
       " 'tag_match_score',\n",
       " 'tag_parser',\n",
       " 'tuple_distance_cached',\n",
       " 'warnings']"
      ]
     },
     "execution_count": 23,
     "metadata": {},
     "output_type": "execute_result"
    }
   ],
   "source": [
    "import langcodes\n",
    "\n",
    "dir(langcodes)"
   ]
  },
  {
   "cell_type": "markdown",
   "metadata": {},
   "source": [
    "# what about adding a prompt?"
   ]
  },
  {
   "cell_type": "code",
   "execution_count": null,
   "metadata": {},
   "outputs": [],
   "source": [
    "transcription = client.audio.transcriptions.create(\n",
    "    model=\"gpt-4o-mini-transcribe\", \n",
    "    # model = \"whisper-1\",\n",
    "    file=audio_file, \n",
    "    response_format=\"json\",\n",
    "    stream = True\n",
    ")\n"
   ]
  },
  {
   "cell_type": "markdown",
   "metadata": {},
   "source": [
    "## Trying chunking text"
   ]
  },
  {
   "cell_type": "code",
   "execution_count": 10,
   "metadata": {},
   "outputs": [
    {
     "ename": "ModuleNotFoundError",
     "evalue": "No module named 'pydub'",
     "output_type": "error",
     "traceback": [
      "\u001b[0;31m---------------------------------------------------------------------------\u001b[0m",
      "\u001b[0;31mModuleNotFoundError\u001b[0m                       Traceback (most recent call last)",
      "\u001b[1;32mUntitled-1.ipynb Cell 6\u001b[0m line \u001b[0;36m1\n\u001b[0;32m----> <a href='vscode-notebook-cell:Untitled-1.ipynb?jupyter-notebook#X10sdW50aXRsZWQ%3D?line=0'>1</a>\u001b[0m \u001b[39mfrom\u001b[39;00m \u001b[39mpydub\u001b[39;00m \u001b[39mimport\u001b[39;00m AudioSegment\n\u001b[1;32m      <a href='vscode-notebook-cell:Untitled-1.ipynb?jupyter-notebook#X10sdW50aXRsZWQ%3D?line=2'>3</a>\u001b[0m song \u001b[39m=\u001b[39m AudioSegment\u001b[39m.\u001b[39mfrom_mp3(\u001b[39m\"\u001b[39m\u001b[39mgood_morning.mp3\u001b[39m\u001b[39m\"\u001b[39m)\n\u001b[1;32m      <a href='vscode-notebook-cell:Untitled-1.ipynb?jupyter-notebook#X10sdW50aXRsZWQ%3D?line=4'>5</a>\u001b[0m \u001b[39m# PyDub handles time in milliseconds\u001b[39;00m\n",
      "\u001b[0;31mModuleNotFoundError\u001b[0m: No module named 'pydub'"
     ]
    }
   ],
   "source": [
    "from pydub import AudioSegment\n",
    "\n",
    "song = AudioSegment.from_mp3(\"good_morning.mp3\")\n",
    "\n",
    "# PyDub handles time in milliseconds\n",
    "ten_minutes = 10 * 60 * 1000\n",
    "\n",
    "first_10_minutes = song[:ten_minutes]\n",
    "\n",
    "first_10_minutes.export(\"good_morning_10.mp3\", format=\"mp3\")"
   ]
  },
  {
   "cell_type": "code",
   "execution_count": null,
   "metadata": {},
   "outputs": [],
   "source": []
  },
  {
   "cell_type": "code",
   "execution_count": 54,
   "metadata": {},
   "outputs": [
    {
     "name": "stderr",
     "output_type": "stream",
     "text": [
      "nodename nor servname provided, or not known\n"
     ]
    },
    {
     "ename": "SystemExit",
     "evalue": "1",
     "output_type": "error",
     "traceback": [
      "An exception has occurred, use %tb to see the full traceback.\n",
      "\u001b[31mSystemExit\u001b[39m\u001b[31m:\u001b[39m 1\n"
     ]
    },
    {
     "name": "stderr",
     "output_type": "stream",
     "text": [
      "/Users/aoiferyan/Documents/tech_development/ShareScribe/.venv/lib/python3.11/site-packages/IPython/core/interactiveshell.py:3675: UserWarning:\n",
      "\n",
      "To exit: use 'exit', 'quit', or Ctrl-D.\n",
      "\n"
     ]
    }
   ],
   "source": [
    "import dash\n",
    "import dash_bootstrap_components as dbc\n",
    "from dash import html\n",
    "\n",
    "app = dash.Dash(__name__, external_stylesheets=[dbc.themes.BOOTSTRAP])\n",
    "\n",
    "card_content = [\n",
    "    dbc.CardHeader(\"Card header\"),\n",
    "    dbc.CardBody(\n",
    "        [\n",
    "            html.H5(\"Card title\", className=\"card-title\"),\n",
    "            html.P(\n",
    "                \"This is some card content that we'll reuse\",\n",
    "                className=\"card-text\",\n",
    "            ),\n",
    "        ]\n",
    "    ),\n",
    "]\n",
    "\n",
    "cards = html.Div(\n",
    "    [\n",
    "        dbc.Row(\n",
    "            [\n",
    "                dbc.Col(dbc.Card(card_content, color=\"primary\", inverse=True)),\n",
    "                dbc.Col(dbc.Card(card_content, color=\"secondary\", inverse=True)),\n",
    "                dbc.Col(dbc.Card(card_content, color=\"info\", inverse=True)),\n",
    "            ],\n",
    "            className=\"mb-4\",\n",
    "        ),\n",
    "        dbc.Row(\n",
    "            [\n",
    "                dbc.Col(dbc.Card(card_content, color=\"success\", inverse=True)),\n",
    "                dbc.Col(dbc.Card(card_content, color=\"warning\", inverse=True)),\n",
    "                dbc.Col(dbc.Card(card_content, color=\"danger\", inverse=True)),\n",
    "            ],\n",
    "            className=\"mb-4\",\n",
    "        ),\n",
    "        dbc.Row(\n",
    "            [\n",
    "                dbc.Col(dbc.Card(card_content, color=\"light\")),\n",
    "                dbc.Col(dbc.Card(card_content, color=\"dark\", inverse=True)),\n",
    "            ]\n",
    "        ),\n",
    "    ]\n",
    ")\n",
    "\n",
    "app.layout = html.Div(cards)\n",
    "\n",
    "if __name__ == \"__main__\":\n",
    "    app.run_server(debug=True)\n"
   ]
  },
  {
   "cell_type": "markdown",
   "metadata": {},
   "source": [
    "# Translating to other languages"
   ]
  },
  {
   "cell_type": "code",
   "execution_count": null,
   "metadata": {},
   "outputs": [],
   "source": [
    "response = client.responses.create(\n",
    "    model=\"gpt-4o-mini\",\n",
    "    instructions=instructions,\n",
    "    input=\"How would I declare a variable for a last name?\",\n",
    ")\n"
   ]
  },
  {
   "cell_type": "code",
   "execution_count": null,
   "metadata": {},
   "outputs": [],
   "source": [
    "# Make sure requests package is installed  \n",
    "import requests \n",
    "import os\n",
    "import json\n",
    "\n",
    "# Load the API key from the environment variable\n",
    "api_key = os.getenv(\"OPENAI_API_KEY\")\n",
    "\n",
    "\n",
    "def process_audio_with_gpt_4o(base64_encoded_audio, output_modalities, system_prompt):\n",
    "    # Chat Completions API end point \n",
    "    url = \"https://api.openai.com/v1/chat/completions\"\n",
    "\n",
    "    # Set the headers\n",
    "    headers = {\n",
    "        \"Content-Type\": \"application/json\",\n",
    "        \"Authorization\": f\"Bearer {api_key}\"\n",
    "    }\n",
    "\n",
    "    # Construct the request data\n",
    "    data = {\n",
    "        \"model\": \"gpt-4o-mini\",\n",
    "        \"modalities\": output_modalities,\n",
    "        \"audio\": {\n",
    "            \"voice\": \"alloy\",\n",
    "            \"format\": \"wav\"\n",
    "        },\n",
    "        \"messages\": [\n",
    "            {\n",
    "                \"role\": \"system\",\n",
    "                \"content\": system_prompt\n",
    "            },\n",
    "            {\n",
    "                \"role\": \"user\",\n",
    "                \"content\": [\n",
    "                    {\n",
    "                        \"type\": \"input_audio\",\n",
    "                        \"input_audio\": {\n",
    "                            \"data\": base64_encoded_audio,\n",
    "                            \"format\": \"wav\"\n",
    "                        }\n",
    "                    }\n",
    "                ]\n",
    "            }\n",
    "        ]\n",
    "    }\n",
    "    \n",
    "    request_response = requests.post(url, headers=headers, data=json.dumps(data))\n",
    "    if request_response.status_code == 200:\n",
    "        return request_response.json()\n",
    "    else:  \n",
    "        print(f\"Error {request_response.status_code}: {request_response.text}\")\n",
    "        return\n",
    "    "
   ]
  },
  {
   "cell_type": "markdown",
   "metadata": {},
   "source": [
    "# Translating to non-english"
   ]
  },
  {
   "cell_type": "code",
   "execution_count": 14,
   "metadata": {},
   "outputs": [],
   "source": [
    "import os\n",
    "import openai"
   ]
  },
  {
   "cell_type": "code",
   "execution_count": 17,
   "metadata": {},
   "outputs": [],
   "source": [
    "from dotenv import load_dotenv\n",
    "\n",
    "load_dotenv(\"../\")\n",
    "api_key = os.getenv(\"OPENAI_API_KEY\")\n",
    "\n",
    "client = openai.OpenAI(api_key = api_key)"
   ]
  },
  {
   "cell_type": "code",
   "execution_count": 24,
   "metadata": {},
   "outputs": [],
   "source": [
    "from openai import OpenAI\n",
    "\n",
    "client = OpenAI()\n",
    "path = os.path.expanduser(\"~/Downloads/Amazon_V3_treated.wav\")\n",
    "# path = os.path.expanduser(\"~/Downloads/The Slightly Curious Studio 3 1-25m_x2.m4a\")\n",
    "audio_file = open(path, \"rb\")\n",
    "\n",
    "transcription = client.audio.transcriptions.create(\n",
    "    # model=\"gpt-4o-mini-transcribe\", \n",
    "    model = \"whisper-1\",\n",
    "    file=audio_file, \n",
    "    response_format=\"json\",\n",
    "    # response_format = \"srt\"\n",
    "    # stream = True\n",
    ")"
   ]
  },
  {
   "cell_type": "code",
   "execution_count": 30,
   "metadata": {},
   "outputs": [
    {
     "data": {
      "text/plain": [
       "\"Nature is our greatest ally in the fight against climate change. By partnering with NGOs and experts across Europe, Amazon is exploring new ways to capture carbon, tackle climate change, and protect nature and our communities, right now. Amazon's RightNow Climate Fund is restoring vital ecosystems, protecting historical woodlands, and reintroducing species, like beavers, back into cities after they'd been gone for centuries. And ensuring the next generation is ready to take on the challenge for the future.\""
      ]
     },
     "execution_count": 30,
     "metadata": {},
     "output_type": "execute_result"
    }
   ],
   "source": [
    "transcription.text"
   ]
  },
  {
   "cell_type": "code",
   "execution_count": 31,
   "metadata": {},
   "outputs": [
    {
     "name": "stdout",
     "output_type": "stream",
     "text": [
      "La naturaleza es nuestra mayor aliada en la lucha contra el cambio climático. Al asociarse con ONG y expertos de toda Europa, Amazon está explorando nuevas formas de capturar carbono, combatir el cambio climático y proteger la naturaleza y nuestras comunidades, ahora mismo. El Fondo Climático RightNow de Amazon está restaurando ecosistemas vitales, protegiendo bosques históricos y reintroduciendo especies, como los castores, en las ciudades después de que hubieran desaparecido durante siglos. Además, está asegurando que la próxima generación esté lista para enfrentar el desafío del futuro.\n"
     ]
    }
   ],
   "source": [
    "from openai import OpenAI\n",
    "client = OpenAI()\n",
    "\n",
    "language_from = \"english\"\n",
    "language_to = \"spanish\"\n",
    "transcribed_text = transcription.text\n",
    "\n",
    "spanish_response = client.responses.create(\n",
    "    model=\"gpt-4.1-mini\",\n",
    "    input=f\"The following is an body of {language_from} text. Translate it to {language_to}: {transcribed_text}\"\n",
    ")\n",
    "\n",
    "print(spanish_response.output_text)"
   ]
  },
  {
   "cell_type": "markdown",
   "metadata": {},
   "source": [
    "what about translating spanish to french:"
   ]
  },
  {
   "cell_type": "code",
   "execution_count": 33,
   "metadata": {},
   "outputs": [
    {
     "name": "stdout",
     "output_type": "stream",
     "text": [
      "La nature est notre plus grand allié dans la lutte contre le changement climatique. En s'associant avec des ONG et des experts de toute l'Europe, Amazon explore de nouvelles façons de capturer le carbone, de combattre le changement climatique et de protéger la nature ainsi que nos communautés, dès maintenant. Le Fonds Climatique RightNow d'Amazon restaure des écosystèmes vitaux, protège des forêts historiques et réintroduit des espèces, comme les castors, dans les villes après avoir disparu pendant des siècles. Et il s'assure que la prochaine génération soit prête à relever le défi de l'avenir.\n"
     ]
    }
   ],
   "source": [
    "from openai import OpenAI\n",
    "client = OpenAI()\n",
    "\n",
    "language_from = \"spanish\"\n",
    "language_to = \"french\"\n",
    "transcribed_text = spanish_response.output_text\n",
    "\n",
    "french_response = client.responses.create(\n",
    "    model=\"gpt-4.1-mini\",\n",
    "    input=f\"The following is an body of {language_from} text. Translate it to {language_to}: {transcribed_text}\"\n",
    ")\n",
    "\n",
    "print(french_response.output_text)"
   ]
  },
  {
   "cell_type": "markdown",
   "metadata": {},
   "source": [
    "do I want to keep outputting an srt or do I want to output a json instead?"
   ]
  },
  {
   "cell_type": "code",
   "execution_count": 36,
   "metadata": {},
   "outputs": [
    {
     "data": {
      "text/plain": [
       "<class 'str'>"
      ]
     },
     "execution_count": 36,
     "metadata": {},
     "output_type": "execute_result"
    }
   ],
   "source": [
    "transcription_srt = client.audio.transcriptions.create(\n",
    "    # model=\"gpt-4o-mini-transcribe\", \n",
    "    model = \"whisper-1\",\n",
    "    file=audio_file, \n",
    "    # response_format=\"json\",\n",
    "    response_format = \"srt\"\n",
    "    # stream = True\n",
    ")\n",
    "\n",
    "type(transcription_srt)"
   ]
  },
  {
   "cell_type": "code",
   "execution_count": 45,
   "metadata": {},
   "outputs": [
    {
     "data": {
      "text/plain": [
       "dict_keys(['duration', 'language', 'text', 'segments', 'usage', 'words', '_request_id'])"
      ]
     },
     "execution_count": 45,
     "metadata": {},
     "output_type": "execute_result"
    }
   ],
   "source": [
    "transcription = client.audio.transcriptions.create(\n",
    "    # model=\"gpt-4o-mini-transcribe\", \n",
    "    model = \"whisper-1\",\n",
    "    file=audio_file, \n",
    "    response_format=\"verbose_json\",\n",
    "    timestamp_granularities = [\"word\", \"segment\"]\n",
    "    # response_format = \"srt\"\n",
    "    # stream = True\n",
    ")\n",
    "\n",
    "transcription.__dict__.keys()"
   ]
  },
  {
   "cell_type": "code",
   "execution_count": 47,
   "metadata": {},
   "outputs": [
    {
     "name": "stdout",
     "output_type": "stream",
     "text": [
      "[TranscriptionSegment(id=0, avg_logprob=-0.27510523796081543, compression_ratio=1.5872340202331543, end=3.9000000953674316, no_speech_prob=0.0048235934227705, seek=0, start=0.0, temperature=0.0, text=' Nature is our greatest ally in the fight against climate change.', tokens=[50364, 20159, 307, 527, 6636, 23356, 294, 264, 2092, 1970, 5659, 1319, 13, 50614]), TranscriptionSegment(id=1, avg_logprob=-0.27510523796081543, compression_ratio=1.5872340202331543, end=8.140000343322754, no_speech_prob=0.0048235934227705, seek=0, start=5.159999847412109, temperature=0.0, text=' By partnering with NGOs and experts across Europe,', tokens=[50614, 3146, 31290, 365, 46454, 293, 8572, 2108, 3315, 11, 50764]), TranscriptionSegment(id=2, avg_logprob=-0.27510523796081543, compression_ratio=1.5872340202331543, end=12.819999694824219, no_speech_prob=0.0048235934227705, seek=0, start=8.880000114440918, temperature=0.0, text=' Amazon is exploring new ways to capture carbon, tackle climate change,', tokens=[50764, 6795, 307, 12736, 777, 2098, 281, 7983, 5954, 11, 14896, 5659, 1319, 11, 51014]), TranscriptionSegment(id=3, avg_logprob=-0.27510523796081543, compression_ratio=1.5872340202331543, end=16.3799991607666, no_speech_prob=0.0048235934227705, seek=0, start=13.279999732971191, temperature=0.0, text=' and protect nature and our communities, right now.', tokens=[51014, 293, 2371, 3687, 293, 527, 4456, 11, 558, 586, 13, 51214]), TranscriptionSegment(id=4, avg_logprob=-0.27510523796081543, compression_ratio=1.5872340202331543, end=21.440000534057617, no_speech_prob=0.0048235934227705, seek=0, start=17.899999618530273, temperature=0.0, text=\" Amazon's RightNow Climate Fund is restoring vital ecosystems,\", tokens=[51214, 6795, 311, 1779, 13267, 27025, 13493, 307, 36349, 11707, 32647, 11, 51464]), TranscriptionSegment(id=5, avg_logprob=-0.27510523796081543, compression_ratio=1.5872340202331543, end=23.559999465942383, no_speech_prob=0.0048235934227705, seek=0, start=22.459999084472656, temperature=0.0, text=' protecting historical woodlands,', tokens=[51464, 12316, 8584, 4576, 10230, 11, 51564]), TranscriptionSegment(id=6, avg_logprob=-0.27510523796081543, compression_ratio=1.5872340202331543, end=26.299999237060547, no_speech_prob=0.0048235934227705, seek=0, start=24.15999984741211, temperature=0.0, text=' and reintroducing species, like beavers,', tokens=[51564, 293, 319, 38132, 2175, 6172, 11, 411, 312, 64, 840, 11, 51714]), TranscriptionSegment(id=7, avg_logprob=-0.2070399671792984, compression_ratio=1.3047618865966797, end=30.299999237060547, no_speech_prob=0.007903088815510273, seek=2630, start=26.299999237060547, temperature=0.0, text=\" back into cities after they'd been gone for centuries.\", tokens=[50364, 646, 666, 6486, 934, 436, 1116, 668, 2780, 337, 13926, 13, 50564]), TranscriptionSegment(id=8, avg_logprob=-0.2070399671792984, compression_ratio=1.3047618865966797, end=35.41999816894531, no_speech_prob=0.007903088815510273, seek=2630, start=31.399999618530273, temperature=0.0, text=' And ensuring the next generation is ready to take on the challenge for the future.', tokens=[50564, 400, 16882, 264, 958, 5125, 307, 1919, 281, 747, 322, 264, 3430, 337, 264, 2027, 13, 50814])]\n"
     ]
    }
   ],
   "source": [
    "print(transcription.segments)"
   ]
  },
  {
   "cell_type": "code",
   "execution_count": 48,
   "metadata": {},
   "outputs": [
    {
     "data": {
      "text/plain": [
       "\"1\\n00:00:00,000 --> 00:00:05,000\\nNature is our greatest ally in the fight against climate change.\\n\\n2\\n00:00:05,000 --> 00:00:08,000\\nBy partnering with NGOs and experts across Europe,\\n\\n3\\n00:00:08,000 --> 00:00:13,000\\nAmazon is exploring new ways to capture carbon, tackle climate change,\\n\\n4\\n00:00:13,000 --> 00:00:17,000\\nand protect nature and our communities, right now.\\n\\n5\\n00:00:17,000 --> 00:00:22,000\\nAmazon's RightNow Climate Fund is restoring vital ecosystems,\\n\\n6\\n00:00:22,000 --> 00:00:24,000\\nprotecting historical woodlands,\\n\\n7\\n00:00:24,000 --> 00:00:27,000\\nand reintroducing species, like beavers,\\n\\n8\\n00:00:27,000 --> 00:00:31,000\\nback into cities after they'd been gone for centuries.\\n\\n9\\n00:00:31,000 --> 00:00:36,000\\nAnd ensuring the next generation is ready to take on the challenge for the future.\\n\\n\\n\""
      ]
     },
     "execution_count": 48,
     "metadata": {},
     "output_type": "execute_result"
    }
   ],
   "source": [
    "transcription_srt"
   ]
  },
  {
   "cell_type": "markdown",
   "metadata": {},
   "source": [
    "how does translating an srt work?"
   ]
  },
  {
   "cell_type": "code",
   "execution_count": 53,
   "metadata": {},
   "outputs": [
    {
     "name": "stdout",
     "output_type": "stream",
     "text": [
      "Below is an srt with english text. Translate it to an srt in spanish. Don't translate words that don't have a spanish translation, some examples are: 'Amazon', 'RightNow Climate Fund'. \n",
      "\n",
      " 1\n",
      "00:00:00,000 --> 00:00:05,000\n",
      "Nature is our greatest ally in the fight against climate change.\n",
      "\n",
      "2\n",
      "00:00:05,000 --> 00:00:08,000\n",
      "By partnering with NGOs and experts across Europe,\n",
      "\n",
      "3\n",
      "00:00:08,000 --> 00:00:13,000\n",
      "Amazon is exploring new ways to capture carbon, tackle climate change,\n",
      "\n",
      "4\n",
      "00:00:13,000 --> 00:00:17,000\n",
      "and protect nature and our communities, right now.\n",
      "\n",
      "5\n",
      "00:00:17,000 --> 00:00:22,000\n",
      "Amazon's RightNow Climate Fund is restoring vital ecosystems,\n",
      "\n",
      "6\n",
      "00:00:22,000 --> 00:00:24,000\n",
      "protecting historical woodlands,\n",
      "\n",
      "7\n",
      "00:00:24,000 --> 00:00:27,000\n",
      "and reintroducing species, like beavers,\n",
      "\n",
      "8\n",
      "00:00:27,000 --> 00:00:31,000\n",
      "back into cities after they'd been gone for centuries.\n",
      "\n",
      "9\n",
      "00:00:31,000 --> 00:00:36,000\n",
      "And ensuring the next generation is ready to take on the challenge for the future.\n",
      "\n",
      "\n",
      "\n"
     ]
    }
   ],
   "source": [
    "language_from = \"english\"\n",
    "language_to = \"spanish\"\n",
    "transcribed_text = transcription.text\n",
    "words_not_for_translation = \"'Amazon', 'RightNow Climate Fund'\"\n",
    "\n",
    "print(f\"Below is an srt with {language_from} text. Translate it to an srt in {language_to}. Don't translate words that don't have a {language_to} translation, some examples are: {words_not_for_translation}. \\n\\n {transcription_srt}\")"
   ]
  },
  {
   "cell_type": "code",
   "execution_count": 55,
   "metadata": {},
   "outputs": [
    {
     "name": "stdout",
     "output_type": "stream",
     "text": [
      "1\n",
      "00:00:00,000 --> 00:00:05,000\n",
      "La naturaleza es nuestra mayor aliada en la lucha contra el cambio climático.\n",
      "\n",
      "2\n",
      "00:00:05,000 --> 00:00:08,000\n",
      "Al asociarse con ONGs y expertos en toda Europa,\n",
      "\n",
      "3\n",
      "00:00:08,000 --> 00:00:13,000\n",
      "Amazon está explorando nuevas formas de capturar carbono, combatir el cambio climático,\n",
      "\n",
      "4\n",
      "00:00:13,000 --> 00:00:17,000\n",
      "y proteger la naturaleza y nuestras comunidades, ahora mismo.\n",
      "\n",
      "5\n",
      "00:00:17,000 --> 00:00:22,000\n",
      "El Fondo Climático RightNow de Amazon está restaurando ecosistemas vitales,\n",
      "\n",
      "6\n",
      "00:00:22,000 --> 00:00:24,000\n",
      "protegiendo bosques históricos,\n",
      "\n",
      "7\n",
      "00:00:24,000 --> 00:00:27,000\n",
      "y reintroduciendo especies, como castores,\n",
      "\n",
      "8\n",
      "00:00:27,000 --> 00:00:31,000\n",
      "de nuevo en las ciudades después de que hubieran desaparecido por siglos.\n",
      "\n",
      "9\n",
      "00:00:31,000 --> 00:00:36,000\n",
      "Y asegurando que la próxima generación esté lista para asumir el desafío del futuro.\n"
     ]
    }
   ],
   "source": [
    "from openai import OpenAI\n",
    "client = OpenAI()\n",
    "\n",
    "language_from = \"english\"\n",
    "language_to = \"spanish\"\n",
    "transcribed_text = transcription.text\n",
    "words_not_for_translation = \"'SAMY'\" # testing if I just leave on filler word\n",
    "\n",
    "spanish_response_srt = client.responses.create(\n",
    "    model=\"gpt-4.1-mini\",\n",
    "    input=f\"Below is an srt with {language_from} text. Translate it to an srt in {language_to}. Don't translate words that don't have a {language_to} translation, some examples are: {words_not_for_translation}. \\n\\n {transcription_srt}\"\n",
    ")\n",
    "\n",
    "print(spanish_response_srt.output_text)"
   ]
  },
  {
   "cell_type": "markdown",
   "metadata": {},
   "source": [
    "for now the path of least resistance is probably keeping all as an srt and translating the srt."
   ]
  },
  {
   "cell_type": "markdown",
   "metadata": {},
   "source": [
    "how would I deal with word inputs for no translation list?"
   ]
  },
  {
   "cell_type": "code",
   "execution_count": 78,
   "metadata": {},
   "outputs": [
    {
     "data": {
      "text/plain": [
       "\"'word3', 'word1', 'word2', 'word3', 'word4', ' word5', 'word6'\""
      ]
     },
     "execution_count": 78,
     "metadata": {},
     "output_type": "execute_result"
    }
   ],
   "source": [
    "input_words = \"word1, word2, word3,word4,  word5,word6\"\n",
    "no_translation = 'word3'\n",
    "\n",
    "pattern = r', ?'\n",
    "\n",
    "words_split = re.split(pattern, input_words)\n",
    "words_list = [no_translation] + words_split\n",
    "words_quote_list = [f\"'{word}'\" for word in words_list]\n",
    "\", \".join(words_quote_list)\n"
   ]
  },
  {
   "cell_type": "markdown",
   "metadata": {},
   "source": [
    "What if empty input for words not to translate?"
   ]
  },
  {
   "cell_type": "code",
   "execution_count": 79,
   "metadata": {},
   "outputs": [
    {
     "data": {
      "text/plain": [
       "\"'word3', ''\""
      ]
     },
     "execution_count": 79,
     "metadata": {},
     "output_type": "execute_result"
    }
   ],
   "source": [
    "input_words = \"\"\n",
    "no_translation = 'word3'\n",
    "\n",
    "pattern = r', ?'\n",
    "\n",
    "words_split = re.split(pattern, input_words)\n",
    "words_list = [no_translation] + words_split\n",
    "words_quote_list = [f\"'{word}'\" for word in words_list]\n",
    "\", \".join(words_quote_list)"
   ]
  },
  {
   "cell_type": "markdown",
   "metadata": {},
   "source": [
    "what does an empty text string look like? Is it null or is it an empty string?"
   ]
  },
  {
   "cell_type": "markdown",
   "metadata": {},
   "source": []
  }
 ],
 "metadata": {
  "kernelspec": {
   "display_name": "base",
   "language": "python",
   "name": "python3"
  },
  "language_info": {
   "codemirror_mode": {
    "name": "ipython",
    "version": 3
   },
   "file_extension": ".py",
   "mimetype": "text/x-python",
   "name": "python",
   "nbconvert_exporter": "python",
   "pygments_lexer": "ipython3",
   "version": "3.11.3"
  }
 },
 "nbformat": 4,
 "nbformat_minor": 2
}
